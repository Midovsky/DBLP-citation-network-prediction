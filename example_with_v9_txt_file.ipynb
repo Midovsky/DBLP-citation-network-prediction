{
 "cells": [
  {
   "cell_type": "code",
   "execution_count": 3,
   "metadata": {},
   "outputs": [],
   "source": [
    "class Document(object):\n",
    "    \n",
    "    def __init__(self,id=None, title=\"\", authors=[], venue='', year=None, n_citation=0, references =[], abstract =\"\", *args, **kwargs ):\n",
    "        self.id = id\n",
    "        self.title = title\n",
    "        self.authors = authors\n",
    "        self.venue = venue\n",
    "        self.year = year\n",
    "        self.n_citation = n_citation\n",
    "        self.references = references\n",
    "        self.abstract = abstract\n",
    "    def __str__(self):\n",
    "        return str(self.id)\n",
    "\n",
    "    def __hash__(self):\n",
    "        return hash(str(self))\n",
    "    \n",
    "    def __repr__(self):\n",
    "        return str(self.id)\n",
    "    "
   ]
  },
  {
   "cell_type": "code",
   "execution_count": 5,
   "metadata": {},
   "outputs": [
    {
     "data": {
      "text/html": [
       "\n",
       "<style>\n",
       ".output_png {\n",
       "    display: table-cell;\n",
       "    text-align: center;\n",
       "    vertical-align: middle;\n",
       "}\n",
       "</style>\n"
      ],
      "text/plain": [
       "<IPython.core.display.HTML object>"
      ]
     },
     "execution_count": 5,
     "metadata": {},
     "output_type": "execute_result"
    },
    {
     "data": {
      "text/plain": [
       "<Figure size 576x432 with 0 Axes>"
      ]
     },
     "execution_count": 5,
     "metadata": {},
     "output_type": "execute_result"
    },
    {
     "data": {
      "image/png": "[encoded data removed]",
      "text/plain": [
       "<Figure size 576x432 with 1 Axes>"
      ]
     },
     "metadata": {},
     "output_type": "display_data"
    }
   ],
   "source": [
    "# importing networkx \n",
    "import networkx as nx \n",
    "\n",
    "import json \n",
    "\n",
    "from operator import itemgetter\n",
    "\n",
    "# importing matplotlib.pyplot \n",
    "import matplotlib.pyplot as plt \n",
    "\n",
    "from numpy import random\n",
    "\n",
    "# to display all outputs (not only the last one))\n",
    "from IPython.core.interactiveshell import InteractiveShell\n",
    "InteractiveShell.ast_node_interactivity = \"all\"\n",
    "\n",
    "import collections\n",
    "\n",
    "import pandas as pd\n",
    "\n",
    "import numpy as np\n",
    "\n",
    "# to center figure on display\n",
    "from IPython.core.display import HTML\n",
    "HTML(\"\"\"\n",
    "<style>\n",
    ".output_png {\n",
    "    display: table-cell;\n",
    "    text-align: center;\n",
    "    vertical-align: middle;\n",
    "}\n",
    "</style>\n",
    "\"\"\")\n",
    "\n",
    "\n",
    "def one(test):  \n",
    "    return test[1:]\n",
    "\n",
    "    \n",
    "def two(test):  \n",
    "    return test[5:]\n",
    "\n",
    "    \n",
    "    \n",
    "# create an empty graph (DiGraph: directed graph)\n",
    "G = nx.DiGraph()\n",
    "\n",
    "# browse the file, extract each object of type \"Document\" and assign it to a node\n",
    "with open('db_v9_example_edited_and_simplified.txt') as f:\n",
    "    doc = Document()\n",
    "    for line in f:\n",
    "        if line != '\\n':\n",
    "            fields=line.split(\"#\")\n",
    "            if fields[1][0] == '%':\n",
    "                doc.references.append(one(fields[1]))\n",
    "                \n",
    "            if fields[1][0] == '!':\n",
    "                doc.abstract= one(fields[1])\n",
    "            \n",
    "            if fields[1][0] == '*':\n",
    "                doc.title = one(fields[1])\n",
    "                \n",
    "            if fields[1][0] == '@':\n",
    "                doc.authors = one(fields[1])\n",
    "                \n",
    "            if fields[1][0] == 't':\n",
    "                doc.year = one(fields[1])\n",
    "                \n",
    "            if fields[1][0] == 'c':\n",
    "                doc.venue = one(fields[1])\n",
    "            \n",
    "            if fields[1][0] == 'i':\n",
    "                doc.id = two(fields[1])\n",
    "            \n",
    "\n",
    "        else:\n",
    "#             print(doc)\n",
    "            G.add_node(doc)\n",
    "            doc = Document()\n",
    "            doc.references = []\n",
    "\n",
    "# add the links (edges between documents)\n",
    "for node in G:\n",
    "    if hasattr(node, 'references'):\n",
    "        for i in node.references:\n",
    "            for d in G:\n",
    "                if (i == (d.id)) and (d != node):\n",
    "                    d.n_citation = d.n_citation + 1\n",
    "                    G.add_edge(node,d)\n",
    "                    \n",
    "# specify figure size\n",
    "plt.figure(3,figsize=(8,6))                     \n",
    "nx.draw(G,node_size=50)\n"
   ]
  },
  {
   "cell_type": "code",
   "execution_count": 6,
   "metadata": {},
   "outputs": [
    {
     "data": {
      "text/plain": [
       "{555036b37cea80f954149ffc: 0.033467216175944114,\n",
       " 555036b37cea80f954149ffd: 0.04016064636847014,\n",
       " 555036b37cea80f954149ffe: 0.04819258162475441,\n",
       " 555036b37cea80f954149fff: 0.033467216175944114,\n",
       " 555036b37cea80f95414a000: 0.033467216175944114,\n",
       " 555036b37cea80f95414a001: 0.04149915143222839,\n",
       " 555036b37cea80f95414a002: 0.033467216175944114,\n",
       " 555036b37cea80f95414a003: 0.033467216175944114,\n",
       " 555036b37cea80f95414a004: 0.033467216175944114,\n",
       " 555036b37cea80f95414a005: 0.033467216175944114,\n",
       " 555036b37cea80f95414a006: 0.033467216175944114,\n",
       " 555036b37cea80f95414a007: 0.033467216175944114,\n",
       " 555036b37cea80f95414a008: 0.033467216175944114,\n",
       " 555036b37cea80f95414a009: 0.033467216175944114,\n",
       " 555036b37cea80f95414a00a: 0.033467216175944114,\n",
       " 555036b37cea80f95414a00b: 0.033467216175944114,\n",
       " 555036b37cea80f95414a00c: 0.033467216175944114,\n",
       " 555036b37cea80f95414a00d: 0.033467216175944114,\n",
       " 555036b37cea80f95414a00e: 0.033467216175944114,\n",
       " 555036b37cea80f95414a00f: 0.033467216175944114,\n",
       " 555036b37cea80f95414a010: 0.033467216175944114,\n",
       " 555036b37cea80f95414a011: 0.033467216175944114,\n",
       " 555036b37cea80f95414a012: 0.033467216175944114,\n",
       " 555036b37cea80f95414a013: 0.033467216175944114,\n",
       " 555036b37cea80f95414a014: 0.033467216175944114,\n",
       " 555036b37cea80f95414a015: 0.033467216175944114,\n",
       " 555036b37cea80f95414a016: 0.033467216175944114,\n",
       " 555036b37cea80f95414a017: 0.033467216175944114,\n",
       " 555036b37cea80f95414a018: 0.033467216175944114}"
      ]
     },
     "execution_count": 6,
     "metadata": {},
     "output_type": "execute_result"
    },
    {
     "name": "stdout",
     "output_type": "stream",
     "text": [
      "Enter a top number: 5\n"
     ]
    },
    {
     "data": {
      "text/plain": [
       "<matplotlib.collections.PathCollection at 0x7f5259906e50>"
      ]
     },
     "execution_count": 6,
     "metadata": {},
     "output_type": "execute_result"
    },
    {
     "data": {
      "image/png": "[encoded data removed]",
      "text/plain": [
       "<Figure size 432x288 with 1 Axes>"
      ]
     },
     "metadata": {},
     "output_type": "display_data"
    },
    {
     "data": {
      "text/plain": [
       "<matplotlib.collections.PathCollection at 0x7f5259869a10>"
      ]
     },
     "execution_count": 6,
     "metadata": {},
     "output_type": "execute_result"
    },
    {
     "data": {
      "image/png": "[encoded data removed]",
      "text/plain": [
       "<Figure size 432x288 with 1 Axes>"
      ]
     },
     "metadata": {},
     "output_type": "display_data"
    },
    {
     "data": {
      "text/plain": [
       "<matplotlib.collections.PathCollection at 0x7f525984e410>"
      ]
     },
     "execution_count": 6,
     "metadata": {},
     "output_type": "execute_result"
    },
    {
     "data": {
      "image/png": "[encoded data removed]",
      "text/plain": [
       "<Figure size 432x288 with 1 Axes>"
      ]
     },
     "metadata": {},
     "output_type": "display_data"
    },
    {
     "data": {
      "text/plain": [
       "<matplotlib.collections.PathCollection at 0x7f52597b5150>"
      ]
     },
     "execution_count": 6,
     "metadata": {},
     "output_type": "execute_result"
    },
    {
     "data": {
      "image/png": "[encoded data removed]",
      "text/plain": [
       "<Figure size 432x288 with 1 Axes>"
      ]
     },
     "metadata": {},
     "output_type": "display_data"
    },
    {
     "data": {
      "text/plain": [
       "<matplotlib.collections.PathCollection at 0x7f525979add0>"
      ]
     },
     "execution_count": 6,
     "metadata": {},
     "output_type": "execute_result"
    },
    {
     "data": {
      "image/png": "[encoded data removed]",
      "text/plain": [
       "<Figure size 432x288 with 1 Axes>"
      ]
     },
     "metadata": {},
     "output_type": "display_data"
    },
    {
     "name": "stdout",
     "output_type": "stream",
     "text": [
      "Le graph Ginf des 5 top noeuds\n"
     ]
    },
    {
     "data": {
      "image/png": "[encoded data removed]",
      "text/plain": [
       "<Figure size 432x288 with 1 Axes>"
      ]
     },
     "metadata": {},
     "output_type": "display_data"
    }
   ],
   "source": [
    "#Application of pr and construction of Ginf\n",
    "\n",
    "# apply page rank algorithm\n",
    "pr=nx.pagerank(G,0.4) \n",
    "pr\n",
    "\n",
    "\n",
    "# function that return the \"nb\" top first elements\n",
    "def sort_top(pr,top_nb):\n",
    "    sorted_pr = sorted(pr.items(), key=lambda kv: kv[1], reverse=True)\n",
    "    sorted_top =[]\n",
    "    for i in range(top_nb):\n",
    "        sorted_top.append(sorted_pr[i])\n",
    "        \n",
    "    return sorted_top\n",
    "\n",
    "\n",
    "\n",
    "# Declare Ginf graph\n",
    "Ginf = nx.DiGraph()\n",
    "\n",
    "\n",
    "    \n",
    "nb = int(input('Enter a top number: '))        \n",
    "        \n",
    "#sort pr: returns the nb top pr\n",
    "test = sort_top(pr,nb)        \n",
    "\n",
    "for i in range(nb):\n",
    "\n",
    "    # Create ego graph\n",
    "    # When unidirected=False : only successors of the nodes are drawn\n",
    "    # When unidirected=True : successors and predecessors of the nodes are drawn\n",
    "    hub_ego=nx.ego_graph(G,test[i][0],undirected=False)\n",
    "\n",
    "    #Update Ginf graph\n",
    "    Ginf.update(hub_ego)\n",
    "\n",
    "    # Draw graph ego\n",
    "    pos=nx.spring_layout(hub_ego)\n",
    "    nx.draw(hub_ego,pos,node_color='b',node_size=300,with_labels=True)\n",
    "\n",
    "    # Draw ego as large and red\n",
    "    nx.draw_networkx_nodes(hub_ego,pos,nodelist=[test[i][0]],node_size=300,node_color='r')\n",
    "    plt.show()\n",
    "            \n",
    "print('Le graph Ginf des ' + str(nb) +' top noeuds')\n",
    "nx.draw(Ginf,with_labels=True)\n",
    "plt.show()\n",
    "\n"
   ]
  },
  {
   "cell_type": "code",
   "execution_count": 7,
   "metadata": {},
   "outputs": [
    {
     "name": "stdout",
     "output_type": "stream",
     "text": [
      "\n",
      "Le tri des documents selon le nombre des n_citation descendant:\n",
      "[555036b37cea80f954149ffe\n",
      ", 555036b37cea80f954149ffd\n",
      ", 555036b37cea80f95414a001\n",
      ", 555036b37cea80f954149ffc\n",
      ", 555036b37cea80f954149fff\n",
      "]\n"
     ]
    }
   ],
   "source": [
    "# return titles by author\n",
    "def search_by_author(g,author):\n",
    "    titles=[]\n",
    "    for node in g:\n",
    "        if hasattr(node, 'authors') and author in node.authors and (not node.title in titles):\n",
    "            titles.append(node.title)\n",
    "    return titles\n",
    "\n",
    "# return titles by multiple authors\n",
    "def search_by_authors(g,authors):\n",
    "    titles=[]\n",
    "    for node in g:\n",
    "        if hasattr(node, 'authors'):\n",
    "            for author in authors:\n",
    "                if (author in node.authors) and (not node.title in titles):\n",
    "                    titles.append(node.title)\n",
    "    return titles\n",
    "\n",
    "# return all titles\n",
    "def search_titles(g):\n",
    "    titles=[]\n",
    "    for node in g:\n",
    "        if hasattr(node, 'title'):\n",
    "            if not node.title in titles:\n",
    "                titles.append(node.title)\n",
    "    return titles\n",
    "\n",
    "#return all authors\n",
    "def search_authors(g):\n",
    "    authors=[]\n",
    "    for node in g:\n",
    "        if hasattr(node, 'authors'):\n",
    "            authors.append(node.authors)\n",
    "    return authors\n",
    "\n",
    "def search_venues(g):\n",
    "    venues=[]\n",
    "    for node in g:\n",
    "        if hasattr(node, 'venue'):\n",
    "            if not node.venue in venues:\n",
    "                venues.append(node.venue)\n",
    "    return venues\n",
    "\n",
    "#return all abstracts\n",
    "def search_abstracts(g):\n",
    "    abstracts=[]\n",
    "    for node in g:\n",
    "        if hasattr(node, 'abstract') and (not node.abstract in abstracts):\n",
    "            abstracts.append(node.abstract)\n",
    "    return abstracts\n",
    "\n",
    "\n",
    "# sort by citation number\n",
    "def sort_by_citation_number(g):\n",
    "    documents =[]\n",
    "    for node in g:\n",
    "        if hasattr(node, 'n_citation'):\n",
    "            documents.append(node)\n",
    "    documents.sort(key=lambda x: x.n_citation, reverse=True)\n",
    "    print(\"\\nLe tri des documents selon le nombre des n_citation descendant:\")\n",
    "    return documents\n",
    "\n",
    "\n",
    "\n",
    "# titles = search_titles(Ginf)\n",
    "# print(\"Les titres de ce Ginf sont:\")\n",
    "# print(titles)\n",
    "\n",
    "# authors = search_authors(Ginf)\n",
    "# print(authors)\n",
    "\n",
    "# authors = [\"Christian Wulff-Nilsen\"]\n",
    "# titles = search_by_authors(Ginf,authors)\n",
    "# print(\"\\nLes titres réalisés par les auteurs en entrée:\")\n",
    "# print(titles)\n",
    "\n",
    "\n",
    "# abstracts = search_abstracts(Ginf)\n",
    "# print(abstracts)\n",
    "\n",
    "\n",
    "\n",
    "sorted_documents=sort_by_citation_number(Ginf)\n",
    "print(sorted_documents) # the numbers are the ids of documents"
   ]
  },
  {
   "cell_type": "code",
   "execution_count": 8,
   "metadata": {},
   "outputs": [
    {
     "name": "stderr",
     "output_type": "stream",
     "text": [
      "[nltk_data] Downloading package punkt to /home/midovsky/nltk_data...\n",
      "[nltk_data]   Package punkt is already up-to-date!\n"
     ]
    },
    {
     "data": {
      "text/plain": [
       "True"
      ]
     },
     "execution_count": 8,
     "metadata": {},
     "output_type": "execute_result"
    },
    {
     "name": "stderr",
     "output_type": "stream",
     "text": [
      "[nltk_data] Downloading package wordnet to /home/midovsky/nltk_data...\n",
      "[nltk_data]   Package wordnet is already up-to-date!\n"
     ]
    },
    {
     "data": {
      "text/plain": [
       "True"
      ]
     },
     "execution_count": 8,
     "metadata": {},
     "output_type": "execute_result"
    },
    {
     "name": "stdout",
     "output_type": "stream",
     "text": [
      "['', 'Example of abstract added by me\\n']\n",
      "1\n",
      "[[], ['exampl', 'abstract', 'add']]\n",
      "0 abstract\n",
      "1 add\n",
      "2 exampl\n",
      "Word 0 (\"abstract\") appears 1 time.\n",
      "Word 1 (\"add\") appears 1 time.\n",
      "Word 2 (\"exampl\") appears 1 time.\n"
     ]
    }
   ],
   "source": [
    "#Application of LDA model\n",
    "\n",
    "from nltk.tokenize import sent_tokenize\n",
    "\n",
    "import gensim\n",
    "from gensim import corpora, models\n",
    "from gensim.utils import simple_preprocess\n",
    "from gensim.parsing.preprocessing import STOPWORDS\n",
    "from nltk.stem import WordNetLemmatizer, SnowballStemmer\n",
    "from nltk.stem.porter import *\n",
    "\n",
    "import numpy as np\n",
    "np.random.seed(2018)\n",
    "import nltk\n",
    "nltk.download('punkt')\n",
    "nltk.download('wordnet')\n",
    "\n",
    "# initializing stemmer\n",
    "stemmer = SnowballStemmer('english')\n",
    "\n",
    "abstracts = search_abstracts(Ginf)\n",
    "\n",
    "print(abstracts)\n",
    "\n",
    "# convert abstracts into dict with one key in order to apply lda algorithm\n",
    "# the key here is: \"abstract\"\n",
    "documents = {\"abstracts\": abstracts[0:]}\n",
    "\n",
    "print(len(documents))\n",
    "\n",
    "# Certain parts of English speech, like conjunctions (“for”, “or”) or the word “the” are meaningless to a topic model.\n",
    "# These terms are called stop words and need to be removed from our token list.\n",
    "# function that lematizes and stemms\n",
    "def lemmatize_stemming(text):\n",
    "    return stemmer.stem(WordNetLemmatizer().lemmatize(text, pos='v'))\n",
    "\n",
    "# Tokenization segments a document into its atomic elements. (into words)\n",
    "def preprocess(text):\n",
    "    result = []\n",
    "    for token in gensim.utils.simple_preprocess(text):\n",
    "        if token not in gensim.parsing.preprocessing.STOPWORDS and len(token) > 3:\n",
    "            result.append(lemmatize_stemming(token))\n",
    "    return result\n",
    "\n",
    "processed_docs = list(map(preprocess,documents['abstracts']))\n",
    "\n",
    "\n",
    "# print the first 4 preprocessed elements\n",
    "print(processed_docs[:4])\n",
    "\n",
    "# Create a dictionary from ‘processed_docs’ containing the number of times a word appears in the training set.\n",
    "dictionary = gensim.corpora.Dictionary(processed_docs)\n",
    "count = 0\n",
    "for k, v in dictionary.iteritems():\n",
    "    print(k, v)\n",
    "    count += 1\n",
    "    if count > 10:\n",
    "        break\n",
    "\n",
    "#Filter out tokens\n",
    "dictionary.filter_extremes(no_below=0)\n",
    "\n",
    "#transform our dict into a bag of words\n",
    "bow_corpus = [dictionary.doc2bow(doc) for doc in processed_docs]\n",
    "\n",
    "# display occurence of words in every document\n",
    "for doc in bow_corpus:\n",
    "    for i in range(len(doc)):\n",
    "        print(\"Word {} (\\\"{}\\\") appears {} time.\".format(doc[i][0], \n",
    "                                               dictionary[doc[i][0]],doc[i][1]))\n",
    "\n"
   ]
  },
  {
   "cell_type": "code",
   "execution_count": 9,
   "metadata": {},
   "outputs": [
    {
     "name": "stdout",
     "output_type": "stream",
     "text": [
      "Topic: 0 \n",
      "Words: 0.333*\"add\" + 0.333*\"exampl\" + 0.333*\"abstract\"\n",
      "Topic: 1 \n",
      "Words: 0.333*\"abstract\" + 0.333*\"exampl\" + 0.333*\"add\"\n",
      "Topic: 2 \n",
      "Words: 0.333*\"add\" + 0.333*\"exampl\" + 0.333*\"abstract\"\n",
      "Topic: 3 \n",
      "Words: 0.333*\"exampl\" + 0.333*\"add\" + 0.333*\"abstract\"\n"
     ]
    },
    {
     "data": {
      "text/plain": [
       "[(0, 0.06324711), (1, 0.8102577), (2, 0.06324767), (3, 0.063247494)]"
      ]
     },
     "execution_count": 9,
     "metadata": {},
     "output_type": "execute_result"
    }
   ],
   "source": [
    "# apply lda model\n",
    "lda_model = gensim.models.LdaMulticore(bow_corpus, num_topics=4, id2word=dictionary, passes=20)\n",
    "\n",
    "# num_words: number of relevant words in every topic\n",
    "for idx, topic in lda_model.print_topics(num_words=5): #or -1 as parameter\n",
    "    print('Topic: {} \\nWords: {}'.format(idx, topic))\n",
    "    \n",
    "# To print the % of topics a document is about, do the following:\n",
    "lda_model[bow_corpus[1]] # bow_corpus[0] means the first document."
   ]
  },
  {
   "cell_type": "code",
   "execution_count": 10,
   "metadata": {},
   "outputs": [
    {
     "data": {
      "text/plain": [
       "[(0, 0.25), (1, 0.25), (2, 0.25), (3, 0.25)]"
      ]
     },
     "execution_count": 10,
     "metadata": {},
     "output_type": "execute_result"
    },
    {
     "data": {
      "text/plain": [
       "[(0, 0.06325006), (1, 0.8102517), (2, 0.06324813), (3, 0.06325014)]"
      ]
     },
     "execution_count": 10,
     "metadata": {},
     "output_type": "execute_result"
    }
   ],
   "source": [
    "# to display the topics of all documents\n",
    "for doc in bow_corpus:\n",
    "    lda_model[doc]"
   ]
  },
  {
   "cell_type": "code",
   "execution_count": 11,
   "metadata": {},
   "outputs": [
    {
     "name": "stdout",
     "output_type": "stream",
     "text": [
      "[(2, '0.333*\"add\" + 0.333*\"exampl\" + 0.333*\"abstract\"'), (3, '0.333*\"exampl\" + 0.333*\"add\" + 0.333*\"abstract\"'), (0, '0.333*\"add\" + 0.333*\"exampl\" + 0.333*\"abstract\"')]\n"
     ]
    }
   ],
   "source": [
    "# print the topic number + percentage\n",
    "print(lda_model.print_topics(num_topics=3, num_words=3))"
   ]
  },
  {
   "cell_type": "code",
   "execution_count": 12,
   "metadata": {},
   "outputs": [
    {
     "name": "stdout",
     "output_type": "stream",
     "text": [
      "\n",
      "Score: 0.8102579712867737\t \n",
      "Topic: 0.333*\"abstract\" + 0.333*\"exampl\" + 0.333*\"add\"\n",
      "\n",
      "Score: 0.06324750930070877\t \n",
      "Topic: 0.333*\"exampl\" + 0.333*\"add\" + 0.333*\"abstract\"\n",
      "\n",
      "Score: 0.06324733793735504\t \n",
      "Topic: 0.333*\"add\" + 0.333*\"exampl\" + 0.333*\"abstract\"\n",
      "\n",
      "Score: 0.06324713677167892\t \n",
      "Topic: 0.333*\"add\" + 0.333*\"exampl\" + 0.333*\"abstract\"\n"
     ]
    }
   ],
   "source": [
    "# to check where a document can be classified\n",
    "for index, score in sorted(lda_model[bow_corpus[1]], key=lambda tup: -1*tup[1]): # exemple doc num 1\n",
    "    print(\"\\nScore: {}\\t \\nTopic: {}\".format(score, lda_model.print_topic(index, 10)))"
   ]
  },
  {
   "cell_type": "code",
   "execution_count": null,
   "metadata": {},
   "outputs": [],
   "source": []
  }
 ],
 "metadata": {
  "kernelspec": {
   "display_name": "Python 3",
   "language": "python",
   "name": "python3"
  },
  "language_info": {
   "codemirror_mode": {
    "name": "ipython",
    "version": 3
   },
   "file_extension": ".py",
   "mimetype": "text/x-python",
   "name": "python",
   "nbconvert_exporter": "python",
   "pygments_lexer": "ipython3",
   "version": "3.7.4"
  }
 },
 "nbformat": 4,
 "nbformat_minor": 2
}
